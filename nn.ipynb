{
  "cells": [
    {
      "cell_type": "code",
      "execution_count": 1,
      "id": "8391ca47-54ca-480c-88fe-ababd7302224",
      "metadata": {
        "id": "8391ca47-54ca-480c-88fe-ababd7302224"
      },
      "outputs": [],
      "source": []
    },
    {
      "cell_type": "code",
      "execution_count": 2,
      "id": "a3d1871e-269a-4ac4-8dd7-ee48ea81a2bb",
      "metadata": {
        "scrolled": true,
        "colab": {
          "base_uri": "https://localhost:8080/"
        },
        "id": "a3d1871e-269a-4ac4-8dd7-ee48ea81a2bb",
        "outputId": "d42f8b21-53cb-4621-8485-b7a668156a51"
      },
      "outputs": [
        {
          "output_type": "stream",
          "name": "stdout",
          "text": [
            "Downloading data from https://storage.googleapis.com/tensorflow/tf-keras-datasets/mnist.npz\n",
            "\u001b[1m11490434/11490434\u001b[0m \u001b[32m━━━━━━━━━━━━━━━━━━━━\u001b[0m\u001b[37m\u001b[0m \u001b[1m0s\u001b[0m 0us/step\n",
            "Epoch 1/3\n",
            "\u001b[1m1875/1875\u001b[0m \u001b[32m━━━━━━━━━━━━━━━━━━━━\u001b[0m\u001b[37m\u001b[0m \u001b[1m10s\u001b[0m 4ms/step - accuracy: 0.8628 - loss: 0.4685\n",
            "Epoch 2/3\n",
            "\u001b[1m1875/1875\u001b[0m \u001b[32m━━━━━━━━━━━━━━━━━━━━\u001b[0m\u001b[37m\u001b[0m \u001b[1m9s\u001b[0m 5ms/step - accuracy: 0.9642 - loss: 0.1137\n",
            "Epoch 3/3\n",
            "\u001b[1m1875/1875\u001b[0m \u001b[32m━━━━━━━━━━━━━━━━━━━━\u001b[0m\u001b[37m\u001b[0m \u001b[1m11s\u001b[0m 5ms/step - accuracy: 0.9765 - loss: 0.0755\n"
          ]
        },
        {
          "output_type": "execute_result",
          "data": {
            "text/plain": [
              "<keras.src.callbacks.history.History at 0x7e74e9960390>"
            ]
          },
          "metadata": {},
          "execution_count": 2
        }
      ],
      "source": [
        "import tensorflow as tf\n",
        "mnist = tf.keras.datasets.mnist\n",
        "(x_train,y_train),(x_test,y_test)=mnist.load_data()\n",
        "x_train= tf.keras.utils.normalize(x_train, axis=1)\n",
        "x_test= tf.keras.utils.normalize(x_test, axis=1)\n",
        "\n",
        "model=tf.keras.models.Sequential()\n",
        "model.add(tf.keras.layers.Flatten())\n",
        "model.add(tf.keras.layers.Dense(128,activation=tf.nn.relu))\n",
        "model.add(tf.keras.layers.Dense(128,activation=tf.nn.relu))\n",
        "model.add(tf.keras.layers.Dense(10,activation=tf.nn.softmax))\n",
        "model.compile(optimizer='adam',loss='sparse_categorical_crossentropy',metrics=['accuracy'])\n",
        "model.fit(x_train,y_train,epochs=3)\n",
        "\n"
      ]
    },
    {
      "cell_type": "code",
      "execution_count": 3,
      "id": "a2e057c7-8dbc-4a4b-a9b5-2ef4dbfde9e9",
      "metadata": {
        "colab": {
          "base_uri": "https://localhost:8080/"
        },
        "id": "a2e057c7-8dbc-4a4b-a9b5-2ef4dbfde9e9",
        "outputId": "0a6dc6d6-53d9-4190-b67e-64fc52e2f3b0"
      },
      "outputs": [
        {
          "output_type": "stream",
          "name": "stdout",
          "text": [
            "\u001b[1m313/313\u001b[0m \u001b[32m━━━━━━━━━━━━━━━━━━━━\u001b[0m\u001b[37m\u001b[0m \u001b[1m1s\u001b[0m 2ms/step - accuracy: 0.9713 - loss: 0.0988\n",
            "0.08958909660577774 0.9728000164031982\n"
          ]
        }
      ],
      "source": [
        "val_loss,val_acc=model.evaluate(x_test,y_test)\n",
        "print(val_loss,val_acc)"
      ]
    },
    {
      "cell_type": "code",
      "execution_count": 4,
      "id": "8ea8f791-fad5-41f8-b46f-da1fd3294868",
      "metadata": {
        "id": "8ea8f791-fad5-41f8-b46f-da1fd3294868"
      },
      "outputs": [],
      "source": [
        "\n",
        "model.save_weights('gfgModelWeights.weights.h5')"
      ]
    },
    {
      "cell_type": "code",
      "execution_count": 5,
      "id": "7d8d028c-b879-4253-a0a0-00f109fd2c51",
      "metadata": {
        "id": "7d8d028c-b879-4253-a0a0-00f109fd2c51"
      },
      "outputs": [],
      "source": [
        "savedModel = model.load_weights('gfgModelWeights.weights.h5')"
      ]
    },
    {
      "cell_type": "code",
      "execution_count": 6,
      "id": "63b46c2f-4170-4a46-b315-ad0779417d18",
      "metadata": {
        "colab": {
          "base_uri": "https://localhost:8080/"
        },
        "id": "63b46c2f-4170-4a46-b315-ad0779417d18",
        "outputId": "0c0d6e43-9f3f-45d6-9c62-bd69de3e5663"
      },
      "outputs": [
        {
          "output_type": "stream",
          "name": "stdout",
          "text": [
            "\u001b[1m 81/313\u001b[0m \u001b[32m━━━━━\u001b[0m\u001b[37m━━━━━━━━━━━━━━━\u001b[0m \u001b[1m0s\u001b[0m 2ms/step"
          ]
        },
        {
          "output_type": "stream",
          "name": "stderr",
          "text": [
            "/usr/local/lib/python3.11/dist-packages/keras/src/models/functional.py:237: UserWarning: The structure of `inputs` doesn't match the expected structure.\n",
            "Expected: keras_tensor\n",
            "Received: inputs=('Tensor(shape=(32, 28, 28))',)\n",
            "  warnings.warn(msg)\n"
          ]
        },
        {
          "output_type": "stream",
          "name": "stdout",
          "text": [
            "\u001b[1m313/313\u001b[0m \u001b[32m━━━━━━━━━━━━━━━━━━━━\u001b[0m\u001b[37m\u001b[0m \u001b[1m1s\u001b[0m 2ms/step\n"
          ]
        },
        {
          "output_type": "stream",
          "name": "stderr",
          "text": [
            "/usr/local/lib/python3.11/dist-packages/keras/src/models/functional.py:237: UserWarning: The structure of `inputs` doesn't match the expected structure.\n",
            "Expected: keras_tensor\n",
            "Received: inputs=('Tensor(shape=(None, 28, 28))',)\n",
            "  warnings.warn(msg)\n"
          ]
        }
      ],
      "source": [
        "predictions=model.predict([x_test])\n"
      ]
    },
    {
      "cell_type": "code",
      "execution_count": 10,
      "id": "92eb3094-e047-4112-9c66-1e008d212439",
      "metadata": {
        "colab": {
          "base_uri": "https://localhost:8080/"
        },
        "id": "92eb3094-e047-4112-9c66-1e008d212439",
        "outputId": "8bfb47fa-4756-4a9b-b506-70003b452871"
      },
      "outputs": [
        {
          "output_type": "stream",
          "name": "stdout",
          "text": [
            "[[1.24919675e-08 3.53909087e-07 1.56046681e-05 ... 9.99816179e-01\n",
            "  6.83663473e-08 3.51299104e-06]\n",
            " [4.63202254e-10 4.89300546e-05 9.99950111e-01 ... 7.01992978e-11\n",
            "  6.28529335e-08 2.11129660e-12]\n",
            " [4.05704341e-08 9.99819994e-01 1.07162614e-05 ... 2.45964820e-05\n",
            "  7.85031079e-05 2.26113002e-06]\n",
            " ...\n",
            " [1.53199509e-10 1.43042385e-07 7.30249750e-10 ... 1.47382968e-06\n",
            "  4.20803616e-07 4.99647613e-05]\n",
            " [2.78775616e-07 3.86969816e-08 1.11427689e-09 ... 3.33152670e-08\n",
            "  1.06004874e-04 4.40029746e-09]\n",
            " [2.26506089e-07 1.26327782e-09 1.21703287e-08 ... 7.78764640e-12\n",
            "  1.12151044e-08 6.07751460e-10]]\n"
          ]
        }
      ],
      "source": [
        "print(predictions)"
      ]
    },
    {
      "cell_type": "code",
      "execution_count": 11,
      "id": "bd720f04-5fa5-4f82-8bdb-2c84af8f3147",
      "metadata": {
        "colab": {
          "base_uri": "https://localhost:8080/"
        },
        "id": "bd720f04-5fa5-4f82-8bdb-2c84af8f3147",
        "outputId": "f99256bb-b833-47b5-83ca-0b6873a53b41"
      },
      "outputs": [
        {
          "output_type": "stream",
          "name": "stdout",
          "text": [
            "235\n"
          ]
        }
      ],
      "source": [
        "import numpy as np\n",
        "print(np.argmax(predictions))"
      ]
    },
    {
      "cell_type": "code",
      "execution_count": 34,
      "id": "cbb46a26-26dd-433c-9369-7b67556905a6",
      "metadata": {
        "colab": {
          "base_uri": "https://localhost:8080/",
          "height": 580
        },
        "id": "cbb46a26-26dd-433c-9369-7b67556905a6",
        "outputId": "0cb33195-eedc-4610-fcbd-17693f3a5de1"
      },
      "outputs": [
        {
          "output_type": "stream",
          "name": "stdout",
          "text": [
            "random value3456\n",
            "3\n",
            "\u001b[1m1/1\u001b[0m \u001b[32m━━━━━━━━━━━━━━━━━━━━\u001b[0m\u001b[37m\u001b[0m \u001b[1m0s\u001b[0m 58ms/step\n"
          ]
        },
        {
          "output_type": "display_data",
          "data": {
            "text/plain": [
              "<Figure size 640x480 with 1 Axes>"
            ],
            "image/png": "[encoded data removed]"
          },
          "metadata": {}
        },
        {
          "output_type": "display_data",
          "data": {
            "text/plain": [
              "<Figure size 640x480 with 1 Axes>"
            ],
            "image/png": "[encoded data removed]"
          },
          "metadata": {}
        }
      ],
      "source": [
        "import matplotlib.pyplot as plt\n",
        "\n",
        "idx =int(input(\"random value\"))\n",
        "\n",
        "print(y_test[idx])\n",
        "\n",
        "predictions=model.predict(np.expand_dims(x_test[idx], axis=0))\n",
        "plt.imshow(predictions)\n",
        "plt.show()\n",
        "\n",
        "plt.imshow(x_test[idx])\n",
        "\n",
        "plt.show()\n"
      ]
    },
    {
      "cell_type": "code",
      "execution_count": 9,
      "id": "800196a9-48bf-4d55-977f-a45ba005056d",
      "metadata": {
        "id": "800196a9-48bf-4d55-977f-a45ba005056d"
      },
      "outputs": [],
      "source": []
    }
  ],
  "metadata": {
    "kernelspec": {
      "display_name": "Python 3 (ipykernel)",
      "language": "python",
      "name": "python3"
    },
    "language_info": {
      "codemirror_mode": {
        "name": "ipython",
        "version": 3
      },
      "file_extension": ".py",
      "mimetype": "text/x-python",
      "name": "python",
      "nbconvert_exporter": "python",
      "pygments_lexer": "ipython3",
      "version": "3.9.2"
    },
    "colab": {
      "provenance": []
    }
  },
  "nbformat": 4,
  "nbformat_minor": 5
}