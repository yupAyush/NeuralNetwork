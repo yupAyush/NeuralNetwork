{
  "cells": [
    {
      "cell_type": "code",
      "execution_count": 8,
      "id": "8391ca47-54ca-480c-88fe-ababd7302224",
      "metadata": {
        "id": "8391ca47-54ca-480c-88fe-ababd7302224"
      },
      "outputs": [],
      "source": []
    },
    {
      "cell_type": "code",
      "execution_count": 9,
      "id": "a3d1871e-269a-4ac4-8dd7-ee48ea81a2bb",
      "metadata": {
        "scrolled": true,
        "colab": {
          "base_uri": "https://localhost:8080/"
        },
        "id": "a3d1871e-269a-4ac4-8dd7-ee48ea81a2bb",
        "outputId": "cd07c31b-5d0e-4dac-92f6-25707c3b788a"
      },
      "outputs": [
        {
          "output_type": "stream",
          "name": "stdout",
          "text": [
            "Epoch 1/3\n",
            "\u001b[1m1875/1875\u001b[0m \u001b[32m━━━━━━━━━━━━━━━━━━━━\u001b[0m\u001b[37m\u001b[0m \u001b[1m10s\u001b[0m 4ms/step - accuracy: 0.8665 - loss: 0.4710\n",
            "Epoch 2/3\n",
            "\u001b[1m1875/1875\u001b[0m \u001b[32m━━━━━━━━━━━━━━━━━━━━\u001b[0m\u001b[37m\u001b[0m \u001b[1m9s\u001b[0m 4ms/step - accuracy: 0.9660 - loss: 0.1089\n",
            "Epoch 3/3\n",
            "\u001b[1m1875/1875\u001b[0m \u001b[32m━━━━━━━━━━━━━━━━━━━━\u001b[0m\u001b[37m\u001b[0m \u001b[1m10s\u001b[0m 4ms/step - accuracy: 0.9774 - loss: 0.0717\n"
          ]
        },
        {
          "output_type": "execute_result",
          "data": {
            "text/plain": [
              "<keras.src.callbacks.history.History at 0x7fdb27e81510>"
            ]
          },
          "metadata": {},
          "execution_count": 9
        }
      ],
      "source": [
        "import tensorflow as tf\n",
        "mnist = tf.keras.datasets.mnist\n",
        "(x_train,y_train),(x_test,y_test)=mnist.load_data()\n",
        "x_train= tf.keras.utils.normalize(x_train, axis=1)\n",
        "x_test= tf.keras.utils.normalize(x_test, axis=1)\n",
        "\n",
        "model=tf.keras.models.Sequential()\n",
        "model.add(tf.keras.layers.Flatten())\n",
        "model.add(tf.keras.layers.Dense(128,activation=tf.nn.relu))\n",
        "model.add(tf.keras.layers.Dense(128,activation=tf.nn.relu))\n",
        "model.add(tf.keras.layers.Dense(10,activation=tf.nn.softmax))\n",
        "model.compile(optimizer='adam',loss='sparse_categorical_crossentropy',metrics=['accuracy'])\n",
        "model.fit(x_train,y_train,epochs=3)\n",
        "\n"
      ]
    },
    {
      "cell_type": "code",
      "execution_count": 10,
      "id": "a2e057c7-8dbc-4a4b-a9b5-2ef4dbfde9e9",
      "metadata": {
        "colab": {
          "base_uri": "https://localhost:8080/"
        },
        "id": "a2e057c7-8dbc-4a4b-a9b5-2ef4dbfde9e9",
        "outputId": "73587511-29eb-457a-8339-fac29fe71da3"
      },
      "outputs": [
        {
          "output_type": "stream",
          "name": "stdout",
          "text": [
            "\u001b[1m313/313\u001b[0m \u001b[32m━━━━━━━━━━━━━━━━━━━━\u001b[0m\u001b[37m\u001b[0m \u001b[1m1s\u001b[0m 2ms/step - accuracy: 0.9669 - loss: 0.1096\n",
            "0.09595003724098206 0.97079998254776\n"
          ]
        }
      ],
      "source": [
        "val_loss,val_acc=model.evaluate(x_test,y_test)\n",
        "print(val_loss,val_acc)"
      ]
    },
    {
      "cell_type": "code",
      "execution_count": 11,
      "id": "8ea8f791-fad5-41f8-b46f-da1fd3294868",
      "metadata": {
        "id": "8ea8f791-fad5-41f8-b46f-da1fd3294868"
      },
      "outputs": [],
      "source": [
        "\n",
        "model.save_weights('gfgModelWeights.weights.h5')"
      ]
    },
    {
      "cell_type": "code",
      "execution_count": 12,
      "id": "7d8d028c-b879-4253-a0a0-00f109fd2c51",
      "metadata": {
        "id": "7d8d028c-b879-4253-a0a0-00f109fd2c51"
      },
      "outputs": [],
      "source": [
        "savedModel = model.load_weights('gfgModelWeights.weights.h5')"
      ]
    },
    {
      "cell_type": "code",
      "execution_count": 13,
      "id": "63b46c2f-4170-4a46-b315-ad0779417d18",
      "metadata": {
        "colab": {
          "base_uri": "https://localhost:8080/"
        },
        "id": "63b46c2f-4170-4a46-b315-ad0779417d18",
        "outputId": "62de23a5-fe1e-418c-9abb-5fb89a5ef974"
      },
      "outputs": [
        {
          "output_type": "stream",
          "name": "stdout",
          "text": [
            "\u001b[1m 92/313\u001b[0m \u001b[32m━━━━━\u001b[0m\u001b[37m━━━━━━━━━━━━━━━\u001b[0m \u001b[1m0s\u001b[0m 2ms/step"
          ]
        },
        {
          "output_type": "stream",
          "name": "stderr",
          "text": [
            "/usr/local/lib/python3.11/dist-packages/keras/src/models/functional.py:237: UserWarning: The structure of `inputs` doesn't match the expected structure.\n",
            "Expected: keras_tensor\n",
            "Received: inputs=('Tensor(shape=(32, 28, 28))',)\n",
            "  warnings.warn(msg)\n"
          ]
        },
        {
          "output_type": "stream",
          "name": "stdout",
          "text": [
            "\u001b[1m313/313\u001b[0m \u001b[32m━━━━━━━━━━━━━━━━━━━━\u001b[0m\u001b[37m\u001b[0m \u001b[1m1s\u001b[0m 2ms/step\n"
          ]
        },
        {
          "output_type": "stream",
          "name": "stderr",
          "text": [
            "/usr/local/lib/python3.11/dist-packages/keras/src/models/functional.py:237: UserWarning: The structure of `inputs` doesn't match the expected structure.\n",
            "Expected: keras_tensor\n",
            "Received: inputs=('Tensor(shape=(None, 28, 28))',)\n",
            "  warnings.warn(msg)\n"
          ]
        }
      ],
      "source": [
        "predictions=model.predict([x_test])\n"
      ]
    },
    {
      "cell_type": "code",
      "execution_count": 14,
      "id": "92eb3094-e047-4112-9c66-1e008d212439",
      "metadata": {
        "colab": {
          "base_uri": "https://localhost:8080/"
        },
        "id": "92eb3094-e047-4112-9c66-1e008d212439",
        "outputId": "d0833174-5161-4e4c-c122-561dbb521e1d"
      },
      "outputs": [
        {
          "output_type": "stream",
          "name": "stdout",
          "text": [
            "[[2.54115662e-09 6.77202383e-09 1.11898316e-05 ... 9.99112487e-01\n",
            "  1.49169509e-07 7.75783974e-06]\n",
            " [4.13011918e-08 1.14519004e-04 9.99883831e-01 ... 8.15528800e-09\n",
            "  5.28816848e-08 1.57427786e-11]\n",
            " [1.98797443e-06 9.99670863e-01 6.52983726e-05 ... 1.33627167e-04\n",
            "  8.49543867e-05 2.80655900e-06]\n",
            " ...\n",
            " [1.55597721e-08 7.20344701e-07 8.22311108e-07 ... 5.91817661e-05\n",
            "  1.65999863e-05 6.09170238e-04]\n",
            " [3.00727521e-07 4.97109852e-07 3.73985465e-08 ... 1.21975930e-07\n",
            "  1.97016372e-04 1.03823936e-07]\n",
            " [3.37923893e-07 9.28601018e-09 1.48149797e-06 ... 8.92132993e-13\n",
            "  5.16376997e-10 4.13618167e-11]]\n"
          ]
        }
      ],
      "source": [
        "print(predictions)"
      ]
    },
    {
      "cell_type": "code",
      "execution_count": 16,
      "id": "bd720f04-5fa5-4f82-8bdb-2c84af8f3147",
      "metadata": {
        "colab": {
          "base_uri": "https://localhost:8080/"
        },
        "id": "bd720f04-5fa5-4f82-8bdb-2c84af8f3147",
        "outputId": "633bcb07-92c5-4bdd-83f2-997f2915c802"
      },
      "outputs": [
        {
          "output_type": "stream",
          "name": "stdout",
          "text": [
            "1295\n"
          ]
        }
      ],
      "source": [
        "import numpy as np\n",
        "print(np.argmax(predictions))"
      ]
    },
    {
      "cell_type": "code",
      "execution_count": 47,
      "id": "cbb46a26-26dd-433c-9369-7b67556905a6",
      "metadata": {
        "colab": {
          "base_uri": "https://localhost:8080/",
          "height": 465
        },
        "id": "cbb46a26-26dd-433c-9369-7b67556905a6",
        "outputId": "b8c23e48-6ccd-4f82-c062-cd4fbeb2e5dc"
      },
      "outputs": [
        {
          "output_type": "stream",
          "name": "stdout",
          "text": [
            "random value3456\n",
            "3\n"
          ]
        },
        {
          "output_type": "display_data",
          "data": {
            "text/plain": [
              "<Figure size 640x480 with 1 Axes>"
            ],
            "image/png": "[encoded data removed]"
          },
          "metadata": {}
        }
      ],
      "source": [
        "import matplotlib.pyplot as plt\n",
        "\n",
        "idx =int(input(\"random value\"))\n",
        "\n",
        "print(y_test[idx])\n",
        "\n",
        "\n",
        "plt.imshow(x_test[idx])\n",
        "\n",
        "plt.show()\n"
      ]
    },
    {
      "cell_type": "code",
      "execution_count": null,
      "id": "800196a9-48bf-4d55-977f-a45ba005056d",
      "metadata": {
        "id": "800196a9-48bf-4d55-977f-a45ba005056d"
      },
      "outputs": [],
      "source": []
    }
  ],
  "metadata": {
    "kernelspec": {
      "display_name": "Python 3 (ipykernel)",
      "language": "python",
      "name": "python3"
    },
    "language_info": {
      "codemirror_mode": {
        "name": "ipython",
        "version": 3
      },
      "file_extension": ".py",
      "mimetype": "text/x-python",
      "name": "python",
      "nbconvert_exporter": "python",
      "pygments_lexer": "ipython3",
      "version": "3.9.2"
    },
    "colab": {
      "provenance": []
    }
  },
  "nbformat": 4,
  "nbformat_minor": 5
}